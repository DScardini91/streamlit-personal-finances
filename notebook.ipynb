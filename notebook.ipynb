{
 "cells": [
  {
   "cell_type": "code",
   "execution_count": 19,
   "metadata": {},
   "outputs": [
    {
     "name": "stdout",
     "output_type": "stream",
     "text": [
      "Metas =  ['Alimentação', 'Aluguel de carro', 'Compras', 'Combustível', 'Entradas / Passeios', 'Estacionamento', 'Hospedagens', 'Lembranças', 'Ônibus / Metrô', 'Outros viagens', 'Passagens / Bagagem', 'Pedágio', 'Restaurantes', 'Supermercado', 'Uber/táxi', 'Fundo para viagem', 'Convite', 'Decoração', 'Doces Personalizados', 'Fotos', 'Lembrancinhas', 'Local / Buffet', 'Outros', 'Papelaria', 'Recreação', 'Fundo para festa de aniversário', 'Fundo de emergência']\n",
      "Conforto =  ['Streaming (Netflix / Amazon / Disney)', 'Auxiliar doméstica', 'Manicure', 'Lavanderia', 'Alimentação Trabalho Larissa']\n",
      "Custos fixos =  ['Material Escolar', 'Mensalidade Creche Isaque', 'Ração', 'Vacina', 'Medicamento', 'Tarifas bancárias', 'Supermercado', 'Aluguel / Condomínio / IPTU', 'Energia Elétrica', 'Internet', 'Manutenção', 'Condomínio', 'Financiamento APTO', 'Celular', 'Cabelereiro / Barbeiro', 'Combustível', 'Estacionamento', 'IPVA', 'Lavagem', 'Licenciamento', 'Multa', 'Ônibus / Metrô', 'Outros', 'Pedágio', 'Seguro', 'Taxi / Uber', 'Consultas médicas', 'Consultas odontológicas', 'Farmácia', 'Fraldas', 'Vacinas', 'Alimentação Trabalho Daniel', 'Padaria']\n",
      "Prazeres =  ['Passeios', 'Restaurantes / Cafeterias', 'Esporte', 'Cinema / Teatro']\n",
      "Conhecimento =  ['Cursos', 'Livros', 'Palestras / Workshops', 'Brnquedos educativos']\n",
      "Liberdade Financeira =  ['Investimento']\n",
      "Dízimo =  ['Dízimo', 'Oferta']\n",
      "Reembolsável =  ['Saúde', 'Alimentação', 'Combustível', 'Estacionamento', 'Cursos / Livros']\n"
     ]
    },
    {
     "data": {
      "text/html": [
       "<div>\n",
       "<style scoped>\n",
       "    .dataframe tbody tr th:only-of-type {\n",
       "        vertical-align: middle;\n",
       "    }\n",
       "\n",
       "    .dataframe tbody tr th {\n",
       "        vertical-align: top;\n",
       "    }\n",
       "\n",
       "    .dataframe thead th {\n",
       "        text-align: right;\n",
       "    }\n",
       "</style>\n",
       "<table border=\"1\" class=\"dataframe\">\n",
       "  <thead>\n",
       "    <tr style=\"text-align: right;\">\n",
       "      <th></th>\n",
       "      <th>CUSTOS FIXOS</th>\n",
       "      <th>40</th>\n",
       "      <th>CONFORTO</th>\n",
       "      <th>Unnamed: 3</th>\n",
       "      <th>METAS</th>\n",
       "      <th>Unnamed: 5</th>\n",
       "      <th>PRAZERES</th>\n",
       "      <th>Unnamed: 7</th>\n",
       "      <th>CONHECIMENTO</th>\n",
       "      <th>Unnamed: 9</th>\n",
       "      <th>LIBERDADE FINANCEIRA</th>\n",
       "      <th>Unnamed: 11</th>\n",
       "      <th>DÍZIMO E OFERTA</th>\n",
       "      <th>Unnamed: 13</th>\n",
       "      <th>REEMBOLSÁVEL</th>\n",
       "      <th>Unnamed: 15</th>\n",
       "      <th>Categorias</th>\n",
       "      <th>Sub categorias</th>\n",
       "    </tr>\n",
       "  </thead>\n",
       "  <tbody>\n",
       "    <tr>\n",
       "      <th>34</th>\n",
       "      <td>NaN</td>\n",
       "      <td>Vestuário</td>\n",
       "      <td>NaN</td>\n",
       "      <td>NaN</td>\n",
       "      <td>NaN</td>\n",
       "      <td>NaN</td>\n",
       "      <td>NaN</td>\n",
       "      <td>NaN</td>\n",
       "      <td>NaN</td>\n",
       "      <td>NaN</td>\n",
       "      <td>NaN</td>\n",
       "      <td>NaN</td>\n",
       "      <td>NaN</td>\n",
       "      <td>NaN</td>\n",
       "      <td>NaN</td>\n",
       "      <td>NaN</td>\n",
       "      <td>NaN</td>\n",
       "      <td>NaN</td>\n",
       "    </tr>\n",
       "  </tbody>\n",
       "</table>\n",
       "</div>"
      ],
      "text/plain": [
       "   CUSTOS FIXOS         40 CONFORTO  Unnamed: 3 METAS Unnamed: 5 PRAZERES  \\\n",
       "34          NaN  Vestuário      NaN         NaN   NaN        NaN      NaN   \n",
       "\n",
       "    Unnamed: 7 CONHECIMENTO  Unnamed: 9 LIBERDADE FINANCEIRA  Unnamed: 11  \\\n",
       "34         NaN          NaN         NaN                  NaN          NaN   \n",
       "\n",
       "   DÍZIMO E OFERTA  Unnamed: 13 REEMBOLSÁVEL Unnamed: 15 Categorias  \\\n",
       "34             NaN          NaN          NaN         NaN        NaN   \n",
       "\n",
       "   Sub categorias  \n",
       "34            NaN  "
      ]
     },
     "execution_count": 19,
     "metadata": {},
     "output_type": "execute_result"
    }
   ],
   "source": [
    "import pandas as pd\n",
    "\n",
    "df = pd.read_excel(\"Categorias de gastos.xlsx\")\n",
    "\n",
    "custos_fixos = list(df[\"CUSTOS FIXOS\"].dropna().unique())\n",
    "conforto = list(df['CONFORTO'].dropna().unique())\n",
    "metas = list(df['METAS'].dropna().unique())\n",
    "prazeres = list(df[\"PRAZERES\"].dropna().unique())\n",
    "conhecimento = list(df[\"CONHECIMENTO\"].dropna().unique())\n",
    "lib_fin = list(df[\"LIBERDADE FINANCEIRA\"].dropna().unique())\n",
    "dizimo = list(df[\"DÍZIMO E OFERTA\"].dropna().unique())\n",
    "reembolsavel = list(df[\"REEMBOLSÁVEL\"].dropna().unique())\n",
    "categorias = list(df[\"Categorias\"].dropna().unique())\n",
    "subcategorias = list(df[\"Sub categorias\"].dropna().unique())\n",
    "\n",
    "\n",
    "print(\"Metas = \", metas)\n",
    "print(\"Conforto = \", conforto)\n",
    "print(\"Custos fixos = \", custos_fixos)\n",
    "print(\"Prazeres = \", prazeres)\n",
    "print(\"Conhecimento = \", conhecimento)\n",
    "print(\"Liberdade Financeira = \", lib_fin)\n",
    "print(\"Dízimo = \", dizimo)\n",
    "print(\"Reembolsável = \", reembolsavel)\n",
    "#print(\"Categorias = \", categorias)\n",
    "#print(\"Subcategorias = \", subcategorias)\n",
    "\n",
    "df.sample()"
   ]
  },
  {
   "cell_type": "code",
   "execution_count": 2,
   "metadata": {},
   "outputs": [
    {
     "name": "stdout",
     "output_type": "stream",
     "text": [
      "Collecting openpyxl\n",
      "  Downloading openpyxl-3.1.4-py2.py3-none-any.whl.metadata (2.5 kB)\n",
      "Collecting et-xmlfile (from openpyxl)\n",
      "  Downloading et_xmlfile-1.1.0-py3-none-any.whl.metadata (1.8 kB)\n",
      "Downloading openpyxl-3.1.4-py2.py3-none-any.whl (251 kB)\n",
      "\u001b[2K   \u001b[90m━━━━━━━━━━━━━━━━━━━━━━━━━━━━━━━━━━━━━━━━\u001b[0m \u001b[32m251.4/251.4 kB\u001b[0m \u001b[31m5.7 MB/s\u001b[0m eta \u001b[36m0:00:00\u001b[0m:00:01\u001b[0m\n",
      "\u001b[?25hDownloading et_xmlfile-1.1.0-py3-none-any.whl (4.7 kB)\n",
      "Installing collected packages: et-xmlfile, openpyxl\n",
      "Successfully installed et-xmlfile-1.1.0 openpyxl-3.1.4\n",
      "Note: you may need to restart the kernel to use updated packages.\n"
     ]
    }
   ],
   "source": [
    "pip install openpyxl"
   ]
  }
 ],
 "metadata": {
  "kernelspec": {
   "display_name": "venv",
   "language": "python",
   "name": "python3"
  },
  "language_info": {
   "codemirror_mode": {
    "name": "ipython",
    "version": 3
   },
   "file_extension": ".py",
   "mimetype": "text/x-python",
   "name": "python",
   "nbconvert_exporter": "python",
   "pygments_lexer": "ipython3",
   "version": "3.9.13"
  }
 },
 "nbformat": 4,
 "nbformat_minor": 2
}
